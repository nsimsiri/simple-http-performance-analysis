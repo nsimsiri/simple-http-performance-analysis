{
 "cells": [
  {
   "cell_type": "code",
   "execution_count": 70,
   "metadata": {},
   "outputs": [],
   "source": [
    "import os, sys, json\n",
    "import numpy as np\n",
    "import pandas as pd\n",
    "import matplotlib.pyplot as plt\n",
    "from collections import defaultdict\n",
    "\n",
    "%matplotlib inline"
   ]
  },
  {
   "cell_type": "code",
   "execution_count": 110,
   "metadata": {},
   "outputs": [],
   "source": [
    "def load():\n",
    "    cwd = os.getcwd()\n",
    "    src = os.path.join(cwd,\"test\")\n",
    "    assert(os.path.exists(src))\n",
    "    json_list = []\n",
    "    storage = defaultdict(lambda: defaultdict(lambda: defaultdict(list)))\n",
    "\n",
    "    for fname in os.listdir(src):\n",
    "        print(fname)\n",
    "        \n",
    "        with open(os.path.join(src, fname), 'r') as f: \n",
    "            content = f.read()\n",
    "            jsonObj = json.loads(content)\n",
    "            temp = fname.split(\" \")[0]\n",
    "            prefixes = temp.split(\"_\")\n",
    "            #['AxiosRequest', 'serial', 'true', '100', 'small']\n",
    "            lvl3 = prefixes[0]\n",
    "            lvl2 = prefixes[1]+'='+prefixes[2]\n",
    "            lvl1 = prefixes[3]+\"=\"+prefixes[4]\n",
    "            storage[lvl1][lvl2][lvl3] = jsonObj\n",
    "                    \n",
    "            json_list.append({\"name\": fname, \"content\": jsonObj})\n",
    "    return storage\n",
    "            \n",
    "    \n",
    "\n",
    "def hist(jsonObj, title, n_bins=10):\n",
    "    for k in jsonObj.keys():\n",
    "        data = jsonObj[k]\n",
    "        plt.hist(data, n_bins)\n",
    "\n",
    "    plt.title()\n",
    "    plt.ylabel(\"frequency\")\n",
    "    plt.xlabel(\"latency (sec)\")\n",
    "    plt.show()"
   ]
  },
  {
   "cell_type": "code",
   "execution_count": 111,
   "metadata": {
    "scrolled": false
   },
   "outputs": [
    {
     "name": "stdout",
     "output_type": "stream",
     "text": [
      "AxiosRequest_serial_true_100_small (12).txt\n",
      "AxiosRequest_serial_true_1_large (9).txt\n",
      "SuperagentRequest_serial_true_10_medium (9).txt\n",
      "AxiosRequest_serial_true_10_medium (9).txt\n",
      "SuperagentRequest_serial_true_100_small (12).txt\n",
      "SuperagentRequest_serial_true_1_large (9).txt\n",
      " \n"
     ]
    },
    {
     "data": {
      "image/png": "[encoded data removed]",
      "text/plain": [
       "<Figure size 432x288 with 1 Axes>"
      ]
     },
     "metadata": {
      "needs_background": "light"
     },
     "output_type": "display_data"
    },
    {
     "data": {
      "image/png": "[encoded data removed]",
      "text/plain": [
       "<Figure size 432x288 with 1 Axes>"
      ]
     },
     "metadata": {
      "needs_background": "light"
     },
     "output_type": "display_data"
    },
    {
     "data": {
      "image/png": "[encoded data removed]",
      "text/plain": [
       "<Figure size 432x288 with 1 Axes>"
      ]
     },
     "metadata": {
      "needs_background": "light"
     },
     "output_type": "display_data"
    }
   ],
   "source": [
    "storage = load()\n",
    "print(\" \")\n",
    "\n",
    "for k in storage.keys():\n",
    "    for k2 in storage[k].keys():\n",
    "        jsonObj = storage[k][k2]\n",
    "        name = \"{} {} Experiment\".format(k, k2)\n",
    "        hist(jsonObj, name)\n",
    "\n",
    "\n"
   ]
  },
  {
   "cell_type": "code",
   "execution_count": 62,
   "metadata": {},
   "outputs": [
    {
     "data": {
      "text/plain": [
       "'abc'"
      ]
     },
     "execution_count": 62,
     "metadata": {},
     "output_type": "execute_result"
    }
   ],
   "source": [
    "\"abc\".split(\" \")[0]"
   ]
  },
  {
   "cell_type": "code",
   "execution_count": 82,
   "metadata": {},
   "outputs": [],
   "source": [
    "ff = defaultdict(lambda: defaultdict(list))"
   ]
  },
  {
   "cell_type": "code",
   "execution_count": 86,
   "metadata": {},
   "outputs": [
    {
     "ename": "IndexError",
     "evalue": "list assignment index out of range",
     "output_type": "error",
     "traceback": [
      "\u001b[0;31m---------------------------------------------------------------------------\u001b[0m",
      "\u001b[0;31mIndexError\u001b[0m                                Traceback (most recent call last)",
      "\u001b[0;32m<ipython-input-86-84d004007578>\u001b[0m in \u001b[0;36m<module>\u001b[0;34m\u001b[0m\n\u001b[1;32m      1\u001b[0m \u001b[0mff\u001b[0m\u001b[0;34m[\u001b[0m\u001b[0;36m1\u001b[0m\u001b[0;34m]\u001b[0m\u001b[0;34m[\u001b[0m\u001b[0;36m2\u001b[0m\u001b[0;34m]\u001b[0m\u001b[0;34m\u001b[0m\u001b[0;34m\u001b[0m\u001b[0m\n\u001b[0;32m----> 2\u001b[0;31m \u001b[0mff\u001b[0m\u001b[0;34m[\u001b[0m\u001b[0;36m1\u001b[0m\u001b[0;34m]\u001b[0m\u001b[0;34m[\u001b[0m\u001b[0;36m3\u001b[0m\u001b[0;34m]\u001b[0m\u001b[0;34m[\u001b[0m\u001b[0;36m4\u001b[0m\u001b[0;34m]\u001b[0m \u001b[0;34m=\u001b[0m \u001b[0;34m[\u001b[0m\u001b[0;36m2\u001b[0m\u001b[0;34m]\u001b[0m\u001b[0;34m\u001b[0m\u001b[0;34m\u001b[0m\u001b[0m\n\u001b[0m",
      "\u001b[0;31mIndexError\u001b[0m: list assignment index out of range"
     ]
    }
   ],
   "source": [
    "ff[1][2]\n",
    "ff[1][3][4] = [2]"
   ]
  },
  {
   "cell_type": "code",
   "execution_count": null,
   "metadata": {},
   "outputs": [],
   "source": []
  }
 ],
 "metadata": {
  "kernelspec": {
   "display_name": "Python 3",
   "language": "python",
   "name": "python3"
  },
  "language_info": {
   "codemirror_mode": {
    "name": "ipython",
    "version": 3
   },
   "file_extension": ".py",
   "mimetype": "text/x-python",
   "name": "python",
   "nbconvert_exporter": "python",
   "pygments_lexer": "ipython3",
   "version": "3.7.3"
  }
 },
 "nbformat": 4,
 "nbformat_minor": 2
}
